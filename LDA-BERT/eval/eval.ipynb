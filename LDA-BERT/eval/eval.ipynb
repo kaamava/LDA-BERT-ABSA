{
 "cells": [
  {
   "cell_type": "code",
   "execution_count": null,
   "metadata": {},
   "outputs": [],
   "source": [
    "import json\n",
    "import os\n",
    "import sklearn.metrics\n",
    "import numpy as np\n",
    "from pprint import pprint"
   ]
  },
  {
   "cell_type": "code",
   "execution_count": null,
   "metadata": {},
   "outputs": [],
   "source": [
    "def evaluate(tasks, berts, domains, runs=10):\n",
    "    for task in tasks:\n",
    "        for bert in berts:\n",
    "            for domain in domains:            \n",
    "                scores=[]\n",
    "                for run in range(1, runs+1):\n",
    "                    DATA_DIR=os.path.join(task, domain)\n",
    "                    OUTPUT_DIR=os.path.join(\"run\", bert+\"_\"+task, domain, str(run) )\n",
    "                    if os.path.exists(os.path.join(OUTPUT_DIR, \"predictions.json\") ):\n",
    "                        if \"rrc\" in task:\n",
    "                            ret=!python eval/evaluate-v1.1.py $DATA_DIR/test.json $OUTPUT_DIR/predictions.json\n",
    "                            score=json.loads(ret[0])\n",
    "                            scores.append([score[\"exact_match\"], score[\"f1\"] ] )\n",
    "                        elif \"ae\" in task:\n",
    "                            ret=!python eval/evaluate_ae.py --pred_json $OUTPUT_DIR/predictions.json\n",
    "                            scores.append(float(ret[0])*100 )\n",
    "                        elif \"asc\" in task:\n",
    "                            with open(os.path.join(OUTPUT_DIR, \"predictions.json\") ) as f:\n",
    "                                results=json.load(f)\n",
    "                            y_true=results['label_ids']\n",
    "                            y_pred=[np.argmax(logit) for logit in results['logits'] ]\n",
    "                            p_macro, r_macro, f_macro, _=sklearn.metrics.precision_recall_fscore_support(y_true, y_pred, average='macro')\n",
    "                            f_macro = 2*p_macro*r_macro/(p_macro+r_macro)\n",
    "                            scores.append([100*sklearn.metrics.accuracy_score(y_true, y_pred), 100*f_macro ] )\n",
    "                        else:\n",
    "                            raise Exception(\"unknown task\")\n",
    "                scores=np.array(scores)\n",
    "                m=scores.mean(axis=0)\n",
    "                \n",
    "                if len(scores.shape)>1:\n",
    "                    for iz, score in enumerate(m):\n",
    "                        print(task, \":\", bert, domain, \"metric\", iz, round(score, 2))\n",
    "                        pprint(scores)\n",
    "                else:\n",
    "                    print(task, \":\", bert, domain, round(m,2))\n",
    "                    pprint(scores)\n",
    "                print"
   ]
  },
  {
   "cell_type": "code",
   "execution_count": null,
   "metadata": {},
   "outputs": [],
   "source": [
    "evaluate(tasks, berts, domains, runs)"
   ]
  }
 ],
 "metadata": {
  "kernelspec": {
   "display_name": "Python 3",
   "language": "python",
   "name": "python3"
  },
  "language_info": {
   "codemirror_mode": {
    "name": "ipython",
    "version": 3
   },
   "file_extension": ".py",
   "mimetype": "text/x-python",
   "name": "python",
   "nbconvert_exporter": "python",
   "pygments_lexer": "ipython3",
   "version": "3.7.4"
  }
 },
 "nbformat": 4,
 "nbformat_minor": 2
}
