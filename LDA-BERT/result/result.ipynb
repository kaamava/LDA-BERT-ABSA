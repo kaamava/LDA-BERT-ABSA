{
 "cells": [
  {
   "cell_type": "code",
   "execution_count": 14,
   "metadata": {},
   "outputs": [
    {
     "name": "stdout",
     "output_type": "stream",
     "text": [
      "ae : pt laptop 85.6\n",
      "array([85.58282 , 86.64151 , 85.47271 , 85.582113, 84.931505, 85.822594,\n",
      "       84.632856, 86.87782 , 84.85317 ])\n"
     ]
    }
   ],
   "source": [
    "tasks=[\"ae\"]\n",
    "berts=[\"pt\"]\n",
    "domains=[\"laptop\"]\n",
    "runs=9\n",
    "%run eval/eval.ipynb"
   ]
  },
  {
   "cell_type": "code",
   "execution_count": null,
   "metadata": {},
   "outputs": [],
   "source": []
  }
 ],
 "metadata": {
  "celltoolbar": "Slideshow",
  "kernelspec": {
   "display_name": "Python 3",
   "language": "python",
   "name": "python3"
  },
  "language_info": {
   "codemirror_mode": {
    "name": "ipython",
    "version": 3
   },
   "file_extension": ".py",
   "mimetype": "text/x-python",
   "name": "python",
   "nbconvert_exporter": "python",
   "pygments_lexer": "ipython3",
   "version": "3.7.3"
  }
 },
 "nbformat": 4,
 "nbformat_minor": 2
}
